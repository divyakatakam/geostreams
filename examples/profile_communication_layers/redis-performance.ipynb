{
 "cells": [
  {
   "cell_type": "code",
   "execution_count": null,
   "metadata": {},
   "outputs": [],
   "source": [
    "import time\n",
    "import numpy as np\n",
    "import redis"
   ]
  },
  {
   "cell_type": "markdown",
   "metadata": {},
   "source": [
    "Let's allocate a medium sized message."
   ]
  },
  {
   "cell_type": "markdown",
   "metadata": {},
   "source": [
    "mb = 2**20\n",
    "gb = 2**30\n",
    "message_size = 512 * mb\n",
    "msg = b\"\\0\"*message_size\n",
    "msg_buf = memoryview(msg)"
   ]
  },
  {
   "cell_type": "code",
   "execution_count": null,
   "metadata": {},
   "outputs": [],
   "source": [
    "from functools import partial"
   ]
  },
  {
   "cell_type": "code",
   "execution_count": null,
   "metadata": {},
   "outputs": [],
   "source": [
    "def time_redis_send(c, msg):\n",
    "    t1 = time.time()\n",
    "    c.set(\"a\", msg)\n",
    "    return time.time()-t1\n",
    "\n",
    "def time_redis_get(c):\n",
    "    t1 = time.time()\n",
    "    c.get(\"a\")\n",
    "    return time.time()-t1\n",
    "\n",
    "def redis_profile_send(send,recv,message_size=100, nmsg=5):\n",
    "    \"\"\"Profile redis sending\"\"\"\n",
    "    mb = 2**20\n",
    "    message_size *=  mb\n",
    "    msg = b\"\\0\"*message_size\n",
    "    \n",
    "    sperf= []\n",
    "    rperf =[]\n",
    "    print(f\"Sending {nmsg} messages\")\n",
    "    print(f\"Message size = {message_size/mb} MB\")\n",
    "    for i in range(nmsg):\n",
    "        t1 = time.time()\n",
    "        send(msg)\n",
    "        sperf.append((message_size/2**30)/(time.time()-t1))  \n",
    "        print(\"Message sent...\",end='\\r')\n",
    "        \n",
    "        if recv:\n",
    "            t1 = time.time()\n",
    "            recv()\n",
    "            rperf.append((message_size/2**30/(time.time()-t1)))\n",
    "        print(\"Message sent...Message received\")\n",
    "        \n",
    "    send_perf = np.mean(sperf)\n",
    "    if recv:\n",
    "        recv_perf = np.mean(rperf)\n",
    "    else:\n",
    "        recv_perf = np.inf\n",
    "    print(\"Average performance\")\n",
    "    print(f\"send throughput: {send_perf} GB/s, recv throughput: {recv_perf} GB/s\")"
   ]
  },
  {
   "cell_type": "code",
   "execution_count": null,
   "metadata": {},
   "outputs": [],
   "source": [
    "c = redis.StrictRedis()\n",
    "redis_profile_send(partial(c.set, \"A\"), partial(c.get, \"A\"))"
   ]
  },
  {
   "cell_type": "code",
   "execution_count": null,
   "metadata": {},
   "outputs": [],
   "source": [
    "from subprocess import Popen\n",
    "from pyarrow import plasma\n",
    "from contextlib import contextmanager, closing\n",
    "\n",
    "@contextmanager\n",
    "def setup_plasma(buf_size=5*2**30):\n",
    "    print(\"Starting plasma store process\")\n",
    "    plasma_proc = Popen(['plasma_store', '-m', '12000000000', '-s', '/tmp/plasma'])\n",
    "    \n",
    "    print(\"Connecting to store\")\n",
    "    plasma_client = plasma.connect('/tmp/plasma', \"\", 0)\n",
    "    \n",
    "    plasma_id = plasma.ObjectID(b\"1\")\n",
    "    print(f\"Creating buffer {buf_size/2**30} GB\")\n",
    "    buffer = plasma_client.create(plasma_id, buf_size)\n",
    "    print(\"Done Setting up\")\n",
    "    yield buffer\n",
    "    print(\"Killing Plasma Process\")\n",
    "    plasma_proc.kill()\n",
    "\n",
    "def set_plasma(plasma_buffer, msg):\n",
    "    plasma_view  = memoryview(buffer)\n",
    "    msg_view = memoryview(msg).cast(plasma_view.format)\n",
    "    plasma_view[:msg_view.nbytes] = msg_view\n",
    "\n",
    "with setup_plasma() as buffer:\n",
    "    redis_profile_send(partial(set_plasma, buffer), None, message_size=4000)\n"
   ]
  }
 ],
 "metadata": {
  "kernelspec": {
   "display_name": "Python 3",
   "language": "python",
   "name": "python3"
  },
  "language_info": {
   "codemirror_mode": {
    "name": "ipython",
    "version": 3
   },
   "file_extension": ".py",
   "mimetype": "text/x-python",
   "name": "python",
   "nbconvert_exporter": "python",
   "pygments_lexer": "ipython3",
   "version": "3.6.1"
  }
 },
 "nbformat": 4,
 "nbformat_minor": 2
}
