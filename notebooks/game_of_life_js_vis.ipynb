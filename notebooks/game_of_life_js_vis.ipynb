{
 "cells": [
  {
   "cell_type": "code",
   "execution_count": 1,
   "metadata": {
    "collapsed": true
   },
   "outputs": [],
   "source": [
    "%matplotlib inline"
   ]
  },
  {
   "cell_type": "code",
   "execution_count": 2,
   "metadata": {
    "collapsed": true
   },
   "outputs": [],
   "source": [
    "import os\n",
    "import time\n",
    "import xarray as xr\n",
    "import numpy as np\n",
    "from PIL import Image\n",
    "\n",
    "import redis"
   ]
  },
  {
   "cell_type": "code",
   "execution_count": 3,
   "metadata": {
    "collapsed": true
   },
   "outputs": [],
   "source": [
    "# Python interface to redis server\n",
    "r = redis.StrictRedis(host='127.0.0.1', port=6379, db=0,\n",
    "                      password=os.getenv('REDIS_PASSWORD'))\n"
   ]
  },
  {
   "cell_type": "code",
   "execution_count": 4,
   "metadata": {
    "collapsed": true
   },
   "outputs": [],
   "source": [
    "from IPython.display import display, clear_output"
   ]
  },
  {
   "cell_type": "code",
   "execution_count": 5,
   "metadata": {
    "collapsed": true,
    "scrolled": false
   },
   "outputs": [],
   "source": [
    "from io import BytesIO\n",
    "import base64\n",
    "\n",
    "shape = (400, 400)\n",
    "dtype = np.int32\n",
    "\n",
    "\n",
    "\n",
    "def arr2im(arr):\n",
    "    img = np.tile(255*arr[:,:,None], (1,1,3)).astype(np.uint8)\n",
    "    return Image.fromarray(img)\n",
    "\n",
    "\n",
    "def im2b64(image):\n",
    "    buf = BytesIO()\n",
    "    image.save(buf, format=\"PNG\")\n",
    "    return \"data:image/png;base64,\"+base64.b64encode(buf.getvalue()).decode(\"utf-8\")\n",
    "\n",
    "\n",
    "def images_list():\n",
    "    while True:\n",
    "        yield r.brpop(\"A\", 10)[1]\n",
    "\n",
    "        \n",
    "def images_pubsub():\n",
    "    p = r.pubsub()\n",
    "    p.subscribe('A')\n",
    "\n",
    "    for data in p.listen():\n",
    "        vals = data['data']\n",
    "        if isinstance(vals, int):\n",
    "            continue\n",
    "        yield data['data']\n",
    "\n",
    "        \n",
    "def imagestrs(gen):\n",
    "    for vals in gen:\n",
    "        arr = np.fromstring(vals, dtype='<i4').reshape(shape, order='F')\n",
    "        yield im2b64(arr2im(arr))\n",
    "        "
   ]
  },
  {
   "cell_type": "code",
   "execution_count": 6,
   "metadata": {},
   "outputs": [],
   "source": [
    "images = imagestrs(images_pubsub())\n",
    "def run_vis():\n",
    "\n",
    "\n",
    "    from IPython.display import HTML, display\n",
    "\n",
    "\n",
    "    # We'll use HTML to create a control panel with an\n",
    "    # empty image and a number of navigation buttons.\n",
    "\n",
    "    disp_html = \"\"\"\n",
    "    <div class=\"animation\" align=\"center\">\n",
    "    <img id=\"anim_frame\" width=\"800\" height=\"800\" src=\"\" style=\"image-rendering: pixelated;\"><br>\n",
    "    <button onclick=\"play()\">Play</button>\n",
    "    <button onclick=\"nextFrame()\">Next Frame</button>\n",
    "    </div>\n",
    "\n",
    "\n",
    "    \"\"\"\n",
    "\n",
    "    # now the javascript to drive it.  The nextFrame() and prevFrame()\n",
    "    # functions will call the kernel and pull-down the frame which\n",
    "    # is generated.  The play() and reverse() functions use timeouts\n",
    "    # to repeatedly call nextFrame() and prevFrame().\n",
    "\n",
    "    javascript = \"\"\"\n",
    "    <script type=\"text/Javascript\">\n",
    "    var count = -1;  // keep track of frame number\n",
    "    var animating = 0;  // keep track of animation direction\n",
    "    var timer = null;\n",
    "    var kernel = IPython.notebook.kernel;\n",
    "\n",
    "    function output(out){\n",
    "        data = out.content.data[\"text/plain\"];\n",
    "        document.getElementById(\"anim_frame\").src = data.substring(1, data.length - 1);\n",
    "\n",
    "        timer = setTimeout(nextFrame, 0);\n",
    "    }\n",
    "\n",
    "    var callbacks = {'output' : output};\n",
    "\n",
    "    var callbacks = {\n",
    "            'iopub' : {\n",
    "                 'output' : output,\n",
    "        }\n",
    "    }\n",
    "\n",
    "\n",
    "    function play(){\n",
    "        nextFrame();\n",
    "    }\n",
    "\n",
    "\n",
    "    function nextFrame(){\n",
    "        var msg_id = kernel.execute(\"next(images)\", callbacks, {silent:false});\n",
    "    }\n",
    "\n",
    "    setTimeout(nextFrame, 0);\n",
    "\n",
    "    </script>\n",
    "    \"\"\"\n",
    "\n",
    "    return HTML(disp_html+javascript)"
   ]
  },
  {
   "cell_type": "code",
   "execution_count": 7,
   "metadata": {},
   "outputs": [
    {
     "data": {
      "text/html": [
       "\n",
       "    <div class=\"animation\" align=\"center\">\n",
       "    <img id=\"anim_frame\" width=\"800\" height=\"800\" src=\"\" style=\"image-rendering: pixelated;\"><br>\n",
       "    <button onclick=\"play()\">Play</button>\n",
       "    <button onclick=\"nextFrame()\">Next Frame</button>\n",
       "    </div>\n",
       "\n",
       "\n",
       "    \n",
       "    <script type=\"text/Javascript\">\n",
       "    var count = -1;  // keep track of frame number\n",
       "    var animating = 0;  // keep track of animation direction\n",
       "    var timer = null;\n",
       "    var kernel = IPython.notebook.kernel;\n",
       "\n",
       "    function output(out){\n",
       "        data = out.content.data[\"text/plain\"];\n",
       "        document.getElementById(\"anim_frame\").src = data.substring(1, data.length - 1);\n",
       "\n",
       "        timer = setTimeout(nextFrame, 0);\n",
       "    }\n",
       "\n",
       "    var callbacks = {'output' : output};\n",
       "\n",
       "    var callbacks = {\n",
       "            'iopub' : {\n",
       "                 'output' : output,\n",
       "        }\n",
       "    }\n",
       "\n",
       "\n",
       "    function play(){\n",
       "        nextFrame();\n",
       "    }\n",
       "\n",
       "\n",
       "    function nextFrame(){\n",
       "        var msg_id = kernel.execute(\"next(images)\", callbacks, {silent:false});\n",
       "    }\n",
       "\n",
       "    setTimeout(nextFrame, 0);\n",
       "\n",
       "    </script>\n",
       "    "
      ],
      "text/plain": [
       "<IPython.core.display.HTML object>"
      ]
     },
     "execution_count": 7,
     "metadata": {},
     "output_type": "execute_result"
    }
   ],
   "source": [
    "run_vis()"
   ]
  }
 ],
 "metadata": {
  "kernelspec": {
   "display_name": "Python 3",
   "language": "python",
   "name": "python3"
  },
  "language_info": {
   "codemirror_mode": {
    "name": "ipython",
    "version": 3
   },
   "file_extension": ".py",
   "mimetype": "text/x-python",
   "name": "python",
   "nbconvert_exporter": "python",
   "pygments_lexer": "ipython3",
   "version": "3.6.0"
  }
 },
 "nbformat": 4,
 "nbformat_minor": 2
}
