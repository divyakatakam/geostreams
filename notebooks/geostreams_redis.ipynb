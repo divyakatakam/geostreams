{
 "cells": [
  {
   "cell_type": "code",
   "execution_count": null,
   "metadata": {
    "collapsed": true
   },
   "outputs": [],
   "source": [
    "import os\n",
    "import time\n",
    "import xarray as xr\n",
    "import numpy as np\n",
    "from IPython import display\n",
    "\n",
    "import redis\n",
    "\n",
    "import matplotlib.pyplot as plt"
   ]
  },
  {
   "cell_type": "code",
   "execution_count": null,
   "metadata": {
    "collapsed": true
   },
   "outputs": [],
   "source": [
    "%matplotlib inline"
   ]
  },
  {
   "cell_type": "code",
   "execution_count": null,
   "metadata": {
    "collapsed": true
   },
   "outputs": [],
   "source": [
    "# Python interface to redis server\n",
    "r = redis.StrictRedis(host='127.0.0.1', port=6379, db=0,\n",
    "                      password=os.getenv('REDIS_PW'))"
   ]
  },
  {
   "cell_type": "code",
   "execution_count": null,
   "metadata": {
    "collapsed": true
   },
   "outputs": [],
   "source": [
    "# get data function\n",
    "def get(key='A', shape=(22, 22)):\n",
    "    key, vals = r.brpop(key)\n",
    "    data = np.fromstring(vals, dtype='<i4').reshape(shape, order='F')\n",
    "    return xr.DataArray(data,  dims=('x', 'y'), name=key)"
   ]
  },
  {
   "cell_type": "code",
   "execution_count": null,
   "metadata": {},
   "outputs": [],
   "source": [
    "from bokeh.server.server import Server\n",
    "from bokeh.application import Application\n",
    "from bokeh.application.handlers.function import FunctionHandler\n",
    "from bokeh.plotting import figure, ColumnDataSource\n",
    "import random\n",
    "\n",
    "def make_document(doc):\n",
    "    shape = (200, 200)\n",
    "    img = np.zeros(shape)\n",
    "    source = ColumnDataSource(data=dict(img=[img]))\n",
    "\n",
    "    def update():\n",
    "        s1, s2 = slice(None), slice(None)\n",
    "        index = [0, s1, s2]\n",
    "        da = get(shape=(200, 200))\n",
    "        new_data = da.values.flatten()\n",
    "        source.patch({ 'img' : [(index, new_data)]})\n",
    "\n",
    "    doc.add_periodic_callback(update, 1)\n",
    "    p2d = figure(plot_width=500, plot_height=500, x_range=(0,shape[0]), y_range=(0,shape[1]),\n",
    "                 title=\"Streaming Conway's Game of Life\")\n",
    "    p2d.image(image='img', x=0, y=0, dw=shape[0], dh=shape[1], source=source)\n",
    "    doc.title = \"Streaming Conway's Game of Life\"\n",
    "    doc.add_root(p2d)\n",
    "\n",
    "apps = {'/': Application(FunctionHandler(make_document))}\n",
    "\n",
    "server = Server(apps, port=8889, address='0.0.0.0', allow_websocket_origin=['*'])\n",
    "server.start()\n",
    "\n",
    "# server.run_until_shutdown()"
   ]
  },
  {
   "cell_type": "code",
   "execution_count": null,
   "metadata": {
    "collapsed": true
   },
   "outputs": [],
   "source": []
  },
  {
   "cell_type": "code",
   "execution_count": null,
   "metadata": {
    "collapsed": true
   },
   "outputs": [],
   "source": []
  }
 ],
 "metadata": {
  "kernelspec": {
   "display_name": "Python (myenv)",
   "language": "python",
   "name": "myenv"
  },
  "language_info": {
   "codemirror_mode": {
    "name": "ipython",
    "version": 3
   },
   "file_extension": ".py",
   "mimetype": "text/x-python",
   "name": "python",
   "nbconvert_exporter": "python",
   "pygments_lexer": "ipython3",
   "version": "3.6.2"
  }
 },
 "nbformat": 4,
 "nbformat_minor": 2
}
