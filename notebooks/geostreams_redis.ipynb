{
 "cells": [
  {
   "cell_type": "code",
   "execution_count": null,
   "metadata": {},
   "outputs": [],
   "source": [
    "%matplotlib inline"
   ]
  },
  {
   "cell_type": "code",
   "execution_count": null,
   "metadata": {},
   "outputs": [],
   "source": [
    "import os\n",
    "import time\n",
    "import xarray as xr\n",
    "import numpy as np\n",
    "from IPython import display\n",
    "\n",
    "import redis\n",
    "\n",
    "import matplotlib.pyplot as plt\n",
    "# from bokeh.io import output_notebook\n",
    "# output_notebook()\n",
    "\n"
   ]
  },
  {
   "cell_type": "code",
   "execution_count": null,
   "metadata": {},
   "outputs": [],
   "source": [
    "r = redis.StrictRedis(host='127.0.0.1', port=6379, db=0, password=os.getenv('REDIS_PASSWORD'))"
   ]
  },
  {
   "cell_type": "code",
   "execution_count": null,
   "metadata": {},
   "outputs": [],
   "source": [
    "def get():\n",
    "    key, vals = r.brpop('A')\n",
    "    data = np.fromstring(vals, dtype='<i4').reshape((100, 100), order='F')\n",
    "    return xr.DataArray(data,  dims=('x', 'y'), name=key)\n",
    "\n",
    "\n",
    "# def get():\n",
    "#     '''for testing while server is down'''\n",
    "#     return xr.DataArray(np.random.randint(-1, 1, size=(100, 100)), dims=('x', 'y'), name=key)"
   ]
  },
  {
   "cell_type": "code",
   "execution_count": null,
   "metadata": {},
   "outputs": [],
   "source": [
    "fig, axes = plt.subplots(ncols=3, figsize=(12, 4), sharex=True, sharey=True, )\n",
    "fig.tight_layout(w_pad=3.0)\n",
    "old = get()\n",
    "\n",
    "old.plot.pcolormesh(ax=axes[0], vmin=-1, vmax=1, cmap='viridis')\n",
    "old.plot.pcolormesh(ax=axes[1], vmin=-1, vmax=1, cmap='viridis')\n",
    "old.plot.pcolormesh(ax=axes[2], vmin=-1, vmax=1, cmap='RdBu')\n",
    "\n",
    "counter = 1\n",
    "while True:\n",
    "    new = get()\n",
    "    old.plot.pcolormesh(ax=axes[0], vmin=-1, vmax=1, cmap='viridis', add_colorbar=False)\n",
    "    new.plot.pcolormesh(ax=axes[1], vmin=-1, vmax=1, cmap='viridis', add_colorbar=False)\n",
    "    (new - old).plot.pcolormesh(ax=axes[2], vmin=-1, vmax=1, cmap='RdBu', add_colorbar=False)\n",
    "    axes[0].set_title('Old: %d' % counter)\n",
    "    axes[1].set_title('New: %d' % (counter + 1))\n",
    "    axes[2].set_title('Diff: %d' % (counter + 1))\n",
    "    display.clear_output(wait=True)\n",
    "    display.display(fig)\n",
    "    time.sleep(5)\n",
    "    old = new\n",
    "    del new\n",
    "    counter += 1\n",
    "\n",
    "    "
   ]
  },
  {
   "cell_type": "code",
   "execution_count": null,
   "metadata": {
    "collapsed": true
   },
   "outputs": [],
   "source": []
  }
 ],
 "metadata": {
  "kernelspec": {
   "display_name": "Python (myenv)",
   "language": "python",
   "name": "myenv"
  },
  "language_info": {
   "codemirror_mode": {
    "name": "ipython",
    "version": 3
   },
   "file_extension": ".py",
   "mimetype": "text/x-python",
   "name": "python",
   "nbconvert_exporter": "python",
   "pygments_lexer": "ipython3",
   "version": "3.6.2"
  }
 },
 "nbformat": 4,
 "nbformat_minor": 2
}
